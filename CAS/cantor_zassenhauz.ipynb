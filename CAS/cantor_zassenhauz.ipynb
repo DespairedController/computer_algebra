{
 "cells": [
  {
   "cell_type": "markdown",
   "metadata": {},
   "source": [
    "Делит `f` на `g`, при условии что `g|f`"
   ]
  },
  {
   "cell_type": "code",
   "execution_count": 1,
   "metadata": {},
   "outputs": [],
   "source": [
    "def __divide(f, g):\n",
    "   return f.quo_rem(g)[0]"
   ]
  },
  {
   "cell_type": "markdown",
   "metadata": {},
   "source": [
    "Возводит многочлен `f` в степень `1/p`, где `p` -- характеристика поля, над которым задан `f`. Кроме того, производная `f` равна `0`. (То есть `f(x)` имеет вид `a0 + a1*x^p + a2*x^(2p) + ...`)."
   ]
  },
  {
   "cell_type": "code",
   "execution_count": 2,
   "metadata": {},
   "outputs": [],
   "source": [
    "def __rooting(f):\n",
    "    p = f.base_ring().characteristic()\n",
    "    q = f.base_ring().order()\n",
    "    variable = f.variables()[0]\n",
    "    coeffs = f.list()\n",
    "    g = 0\n",
    "    i = 0\n",
    "    for coef in coeffs:\n",
    "        if (coef != 0):\n",
    "            g += coef^(q // p) * variable ^ (i // p)\n",
    "        i += 1\n",
    "    return g"
   ]
  },
  {
   "cell_type": "markdown",
   "metadata": {},
   "source": [
    "`__square_free(f : Polynomial)` удаляет из полинома кратные факторы и возвращает результат:"
   ]
  },
  {
   "cell_type": "code",
   "execution_count": 3,
   "metadata": {},
   "outputs": [],
   "source": [
    "def __square_free(f):\n",
    "    m = 1\n",
    "    ans = 1\n",
    "    p = f.base_ring().characteristic()\n",
    "    \n",
    "    d = f.gcd(f.derivative())\n",
    "    w = __divide(f, d)\n",
    "    \n",
    "    while w != 1:\n",
    "        y = w.gcd(d)\n",
    "        factor = __divide(w, y)\n",
    "        ans *= factor\n",
    "        w = y\n",
    "        d = __divide(d, y)\n",
    "    \n",
    "    if d != 1:\n",
    "        d = __rooting(d)\n",
    "        ans *= __square_free(d)\n",
    "    return ans"
   ]
  },
  {
   "cell_type": "markdown",
   "metadata": {},
   "source": [
    "`__compute_distinct_degree(f : Polynomial)` возвращает список полиномов, такой что `compute_distinct_degree(f)[i]` ~-- является произведением факторов степени `i`. "
   ]
  },
  {
   "cell_type": "code",
   "execution_count": 4,
   "metadata": {},
   "outputs": [],
   "source": [
    "def __compute_distinct_degree(f):\n",
    "    R = f.base_ring()\n",
    "    q = R.order()\n",
    "    n = f.degree()\n",
    "    variable = f.variables()[0]\n",
    "    \n",
    "    ans = []\n",
    "    i = 0\n",
    "    v = variable\n",
    "    while i + 1 <= f.degree() // 2:\n",
    "        i += 1\n",
    "        v = (v ^ q).quo_rem(f)[1]\n",
    "        g = f.gcd(v - variable)\n",
    "        g = g / g.lc()\n",
    "        if g != 1:\n",
    "            ans.append((g, i))\n",
    "            f = __divide(f, g)\n",
    "            v = v.quo_rem(f)[1]\n",
    "    if f != 1:\n",
    "        ans.append((f/f.lc(), f.degree()))\n",
    "    return ans"
   ]
  },
  {
   "cell_type": "markdown",
   "metadata": {},
   "source": [
    "`__find_divisor(f : Polynomial, s : Int)` возвращает делитель `f` (все факторы которого имеют степень `s`)."
   ]
  },
  {
   "cell_type": "code",
   "execution_count": 5,
   "metadata": {},
   "outputs": [],
   "source": [
    "def __find_divisor(f, s):\n",
    "    R = f.base_ring()\n",
    "    q = R.order()\n",
    "    n = f.degree()\n",
    "    while (true):\n",
    "        a = f.parent().random_element((1, n))\n",
    "        a = a / a.lc()\n",
    "        if not gcd(f, a).is_constant():\n",
    "            return a\n",
    "        b = a^((q^s - 1) // 2).quo_rem(f)[1] - 1\n",
    "        a2 = gcd(b, f)\n",
    "        if (not a2.is_constant()) and a2 != f:\n",
    "            return a2"
   ]
  },
  {
   "cell_type": "markdown",
   "metadata": {},
   "source": [
    "`__factorize_equal_degree(f : Polynomial, s : Int)` возвращает список факторов `f`. Все факторы `f` должны иметь степень `s`. "
   ]
  },
  {
   "cell_type": "code",
   "execution_count": 6,
   "metadata": {},
   "outputs": [],
   "source": [
    "def __factorize_equal_degree(f, s):\n",
    "    R = f.base_ring()\n",
    "    q = R.order()\n",
    "    n = f.degree()\n",
    "    r = n // s\n",
    "    ans = {f}\n",
    "    while len(ans) < r:\n",
    "        a = f.parent().random_element((1, n))\n",
    "        b = (a^((q^s - 1) // 2) - 1).quo_rem(f)[1]\n",
    "        for u in ans:\n",
    "            if u.degree() == s:\n",
    "                continue\n",
    "            g = u.gcd(b)\n",
    "            adding = set()\n",
    "            sub = set()\n",
    "            if g != 1 and g != u:\n",
    "                sub.add(u)\n",
    "                adding.add(g)\n",
    "                adding.add(__divide(u, g))\n",
    "        ans = ans.difference(sub)\n",
    "        ans = ans.union(adding)\n",
    "    return list(ans)"
   ]
  },
  {
   "cell_type": "markdown",
   "metadata": {},
   "source": [
    "`cantor_zassenhauz(f : Polynomial)` факторизует полином `f` с помощью алгоритма Кантора-Зассенхауза."
   ]
  },
  {
   "cell_type": "code",
   "execution_count": 7,
   "metadata": {},
   "outputs": [],
   "source": [
    "def cantor_zassenhauz(f):\n",
    "    lc = f.lc()\n",
    "    f /= lc\n",
    "    distinct = __compute_distinct_degree(__square_free(f))\n",
    "    square_free_factorization = []\n",
    "    for (factor, power) in distinct:\n",
    "        square_free_factorization += __factorize_equal_degree(factor, power)\n",
    "    factorization = []\n",
    "    for factor in square_free_factorization:\n",
    "        if factor.is_constant():\n",
    "            continue\n",
    "        power = 1\n",
    "        while not gcd(f, factor).is_constant():\n",
    "            power += 1\n",
    "            f = __divide(f, factor)\n",
    "        factorization += [(factor, power - 1)]\n",
    "    return [(f * lc, 1)] + factorization"
   ]
  },
  {
   "cell_type": "markdown",
   "metadata": {},
   "source": [
    "Возвращает `True` если полином факторизован верно, `False` иначе."
   ]
  },
  {
   "cell_type": "code",
   "execution_count": 8,
   "metadata": {},
   "outputs": [],
   "source": [
    "def __test(f):\n",
    "    g = cantor_zassenhauz(f)\n",
    "    restored_f = 1\n",
    "    for (factor, power) in g:\n",
    "        restored_f *= (factor^power)\n",
    "    if restored_f != f:\n",
    "        print(\"Test failed.\\nExpected: \" + str(f) + \"\\nActual: \" + str(restored_f))\n",
    "        return false\n",
    "    return true"
   ]
  },
  {
   "cell_type": "markdown",
   "metadata": {},
   "source": [
    "Запускает `__test` над случайными полиномами."
   ]
  },
  {
   "cell_type": "code",
   "execution_count": 9,
   "metadata": {},
   "outputs": [],
   "source": [
    "def run_random_tests():\n",
    "    testing_orders = [3, 5, 7, 9]\n",
    "    for order in testing_orders:\n",
    "        for degree in range(3, 5):\n",
    "            R = PolynomialRing(GF(order), 'x')\n",
    "            for _ in range(1, 10):\n",
    "                f = R.random_element((degree, degree))\n",
    "                print(\"Testing polynomial \" + str(f) + \" over GF(\" + str(order) +\")\")\n",
    "                if not __test(f):\n",
    "                    return\n",
    "    print(\"OK\")\n",
    "    return"
   ]
  },
  {
   "cell_type": "code",
   "execution_count": 10,
   "metadata": {},
   "outputs": [
    {
     "name": "stdout",
     "output_type": "stream",
     "text": [
      "Testing polynomial x^3 + x + 1 over GF(3)\n",
      "Testing polynomial 2*x^3 + 2*x^2 + 2*x + 1 over GF(3)\n",
      "Testing polynomial 2*x^3 + x^2 + x + 1 over GF(3)\n",
      "Testing polynomial 2*x^3 + 1 over GF(3)\n",
      "Testing polynomial x^3 + 2*x^2 + 2 over GF(3)\n",
      "Testing polynomial 2*x^3 + 2*x^2 + 2*x + 2 over GF(3)\n",
      "Testing polynomial 2*x^3 + 2*x^2 + x + 2 over GF(3)\n",
      "Testing polynomial x^3 + 2*x + 2 over GF(3)\n",
      "Testing polynomial x^3 + 2*x^2 over GF(3)\n",
      "Testing polynomial 2*x^4 + 2*x^3 + 2*x^2 + x over GF(3)\n",
      "Testing polynomial 2*x^4 + 2*x^2 + 2*x over GF(3)\n",
      "Testing polynomial 2*x^4 + x + 2 over GF(3)\n",
      "Testing polynomial x^4 + 2*x^3 + 2 over GF(3)\n",
      "Testing polynomial 2*x^4 + 1 over GF(3)\n",
      "Testing polynomial 2*x^4 + x^3 + x + 1 over GF(3)\n",
      "Testing polynomial x^4 + x^3 + x^2 + x + 1 over GF(3)\n",
      "Testing polynomial x^4 + x + 1 over GF(3)\n",
      "Testing polynomial 2*x^4 + x^3 + 2*x^2 + 2*x + 1 over GF(3)\n",
      "Testing polynomial x^3 + 4*x^2 + 3*x + 1 over GF(5)\n",
      "Testing polynomial 3*x^3 + 2*x^2 + 4 over GF(5)\n",
      "Testing polynomial 4*x^3 + 3*x^2 + 3 over GF(5)\n",
      "Testing polynomial 3*x^3 + 2*x^2 + 3*x + 2 over GF(5)\n",
      "Testing polynomial 4*x^3 + 2*x^2 + 4*x + 2 over GF(5)\n",
      "Testing polynomial 4*x^3 + 2*x^2 + 2*x over GF(5)\n",
      "Testing polynomial 2*x^3 + 3*x over GF(5)\n",
      "Testing polynomial 3*x^3 + 2*x^2 + 4*x + 1 over GF(5)\n",
      "Testing polynomial 4*x^3 + 2*x^2 + x + 3 over GF(5)\n",
      "Testing polynomial 3*x^4 + x^3 + 2*x^2 + 4 over GF(5)\n",
      "Testing polynomial 2*x^4 + 2*x^3 + 2*x + 1 over GF(5)\n",
      "Testing polynomial 4*x^4 + x^3 + 2*x^2 over GF(5)\n",
      "Testing polynomial 2*x^4 + 3*x^3 + 3*x^2 + x over GF(5)\n",
      "Testing polynomial x^4 + 4*x^3 + 2*x^2 + 2*x + 1 over GF(5)\n",
      "Testing polynomial 2*x^4 + x^3 + 2*x + 2 over GF(5)\n",
      "Testing polynomial 3*x^4 + 4*x^2 + x over GF(5)\n",
      "Testing polynomial 2*x^4 + 3*x^3 + 3*x + 1 over GF(5)\n",
      "Testing polynomial 4*x^4 + x^3 + 4*x^2 + 2*x + 2 over GF(5)\n",
      "Testing polynomial 5*x^3 + 4*x^2 + 2*x + 3 over GF(7)\n",
      "Testing polynomial 3*x^3 + 4*x^2 + 6*x + 4 over GF(7)\n",
      "Testing polynomial 6*x^3 + x^2 + 5*x + 5 over GF(7)\n",
      "Testing polynomial 3*x^3 + 4*x^2 + 5*x + 4 over GF(7)\n",
      "Testing polynomial 4*x^3 + 4*x^2 + 3*x over GF(7)\n",
      "Testing polynomial 6*x^3 + x^2 + 4*x + 3 over GF(7)\n",
      "Testing polynomial 6*x^3 + 3*x^2 + 3 over GF(7)\n",
      "Testing polynomial 4*x^3 + x^2 + 4*x over GF(7)\n",
      "Testing polynomial 3*x^3 + 5*x^2 + x over GF(7)\n",
      "Testing polynomial 3*x^4 + 4*x^2 + 3*x + 2 over GF(7)\n",
      "Testing polynomial 5*x^4 + 6*x^3 + 4*x^2 + 2*x + 1 over GF(7)\n",
      "Testing polynomial 4*x^4 + 3*x^3 + 4*x^2 + 6 over GF(7)\n",
      "Testing polynomial 3*x^4 + 5*x^3 + 3*x^2 + 4 over GF(7)\n",
      "Testing polynomial 6*x^4 + 5*x^3 + 5*x^2 + 5*x + 5 over GF(7)\n",
      "Testing polynomial 6*x^4 + 4*x^3 + 5*x^2 + 2*x + 3 over GF(7)\n",
      "Testing polynomial 3*x^4 + 5*x^3 + 5*x + 6 over GF(7)\n",
      "Testing polynomial 6*x^4 + 6*x^3 + x^2 + 5 over GF(7)\n",
      "Testing polynomial 6*x^4 + 3*x^3 + x^2 + 5*x over GF(7)\n",
      "Testing polynomial z2*x^3 + (2*z2 + 1)*x^2 + (2*z2 + 1)*x + 2*z2 + 2 over GF(9)\n",
      "Testing polynomial 2*x^3 + x^2 + (2*z2 + 1)*x + z2 + 2 over GF(9)\n",
      "Testing polynomial 2*x^3 + x^2 over GF(9)\n",
      "Testing polynomial 2*x^3 + (2*z2 + 1)*x^2 + (2*z2 + 2)*x + 1 over GF(9)\n",
      "Testing polynomial (2*z2 + 1)*x^3 + 2*z2*x^2 + (z2 + 2)*x + 2 over GF(9)\n",
      "Testing polynomial (z2 + 1)*x^3 + (z2 + 2)*x^2 + 1 over GF(9)\n",
      "Testing polynomial 2*x^3 + 2*z2*x^2 + x + 2*z2 over GF(9)\n",
      "Testing polynomial (2*z2 + 1)*x^3 + 2*z2*x^2 + (z2 + 1)*x over GF(9)\n",
      "Testing polynomial 2*z2*x^3 + 2*x^2 + z2*x + 1 over GF(9)\n",
      "Testing polynomial z2*x^4 + (2*z2 + 1)*x^2 + (z2 + 1)*x + z2 + 1 over GF(9)\n",
      "Testing polynomial (2*z2 + 2)*x^4 + (2*z2 + 2)*x^3 + z2*x^2 + (z2 + 2)*x + z2 + 2 over GF(9)\n",
      "Testing polynomial z2*x^4 + z2*x^3 + z2*x^2 + (2*z2 + 2)*x + 2*z2 over GF(9)\n",
      "Testing polynomial x^4 + (z2 + 2)*x^3 + z2*x^2 over GF(9)\n",
      "Testing polynomial (z2 + 1)*x^4 + z2*x^3 + (z2 + 1)*x^2 + z2*x + z2 + 1 over GF(9)\n",
      "Testing polynomial 2*z2*x^4 + z2*x^3 + (z2 + 2)*x over GF(9)\n",
      "Testing polynomial (2*z2 + 1)*x^4 + (z2 + 2)*x^3 + (2*z2 + 1)*x^2 + (2*z2 + 1)*x over GF(9)\n",
      "Testing polynomial 2*z2*x^4 + (2*z2 + 1)*x^2 + x + 2*z2 + 1 over GF(9)\n",
      "Testing polynomial (z2 + 2)*x^4 + (z2 + 2)*x^3 + 2*z2*x over GF(9)\n",
      "OK\n"
     ]
    }
   ],
   "source": [
    "run_random_tests()"
   ]
  }
 ],
 "metadata": {
  "kernelspec": {
   "display_name": "SageMath 9.1",
   "language": "sage",
   "name": "sagemath"
  },
  "language_info": {
   "codemirror_mode": {
    "name": "ipython",
    "version": 3
   },
   "file_extension": ".py",
   "mimetype": "text/x-python",
   "name": "python",
   "nbconvert_exporter": "python",
   "pygments_lexer": "ipython3",
   "version": "3.7.3"
  }
 },
 "nbformat": 4,
 "nbformat_minor": 2
}
